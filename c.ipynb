{
  "nbformat": 4,
  "nbformat_minor": 0,
  "metadata": {
    "kernelspec": {
      "display_name": "Python 3",
      "language": "python",
      "name": "python3"
    },
    "language_info": {
      "codemirror_mode": {
        "name": "ipython",
        "version": 3
      },
      "file_extension": ".py",
      "mimetype": "text/x-python",
      "name": "python",
      "nbconvert_exporter": "python",
      "pygments_lexer": "ipython3",
      "version": "3.6.12"
    },
    "toc": {
      "base_numbering": 1,
      "nav_menu": {},
      "number_sections": true,
      "sideBar": true,
      "skip_h1_title": false,
      "title_cell": "Table of Contents",
      "title_sidebar": "Contents",
      "toc_cell": false,
      "toc_position": {},
      "toc_section_display": true,
      "toc_window_display": false
    },
    "varInspector": {
      "cols": {
        "lenName": 16,
        "lenType": 16,
        "lenVar": 40
      },
      "kernels_config": {
        "python": {
          "delete_cmd_postfix": "",
          "delete_cmd_prefix": "del ",
          "library": "var_list.py",
          "varRefreshCmd": "print(var_dic_list())"
        },
        "r": {
          "delete_cmd_postfix": ") ",
          "delete_cmd_prefix": "rm(",
          "library": "var_list.r",
          "varRefreshCmd": "cat(var_dic_list()) "
        }
      },
      "types_to_exclude": [
        "module",
        "function",
        "builtin_function_or_method",
        "instance",
        "_Feature"
      ],
      "window_display": false
    },
    "colab": {
      "name": "c.ipynb",
      "provenance": [],
      "include_colab_link": true
    }
  },
  "cells": [
    {
      "cell_type": "markdown",
      "metadata": {
        "id": "view-in-github",
        "colab_type": "text"
      },
      "source": [
        "<a href=\"https://colab.research.google.com/github/jaaaamj0711/MGC-1/blob/main/c.ipynb\" target=\"_parent\"><img src=\"https://colab.research.google.com/assets/colab-badge.svg\" alt=\"Open In Colab\"/></a>"
      ]
    },
    {
      "cell_type": "markdown",
      "metadata": {
        "id": "BECO794_2Cvj"
      },
      "source": [
        "# 주식 크롤링"
      ]
    },
    {
      "cell_type": "code",
      "metadata": {
        "id": "ErYEvV_82Cv0"
      },
      "source": [
        "import requests\n",
        "from bs4 import BeautifulSoup\n",
        "\n",
        "stock_url = 'http://stock.hankyung.com/apps/analysis.current?itemcode=005930'\n",
        "raw = requests.get(stock_url)\n",
        "raw.encoding = 'euc-kr'   # 한글 인코딩 설정\n",
        "html = BeautifulSoup(raw.text, \"html.parser\") # html 변경"
      ],
      "execution_count": null,
      "outputs": []
    },
    {
      "cell_type": "markdown",
      "metadata": {
        "id": "Ws0KR8s22Cv3"
      },
      "source": [
        "## 현재 시세 가져오기"
      ]
    },
    {
      "cell_type": "code",
      "metadata": {
        "id": "aCz7yknN2Cv4",
        "outputId": "89de3714-4d13-43e6-d19b-39680db204be"
      },
      "source": [
        "box = html.find(\"div\", {\"class\" : \"data_area\"}) # box 설정\n",
        "quote = box.find(\"strong\")\n",
        "print(\"<현재 시세> :\", quote.text)"
      ],
      "execution_count": null,
      "outputs": [
        {
          "output_type": "stream",
          "text": [
            "<현재 시세> : 86,800\n"
          ],
          "name": "stdout"
        }
      ]
    },
    {
      "cell_type": "markdown",
      "metadata": {
        "id": "U1XBWA212Cv7"
      },
      "source": [
        "## 상세 정보 가져오기(1)"
      ]
    },
    {
      "cell_type": "code",
      "metadata": {
        "id": "Ci0T0BM12Cv7"
      },
      "source": [
        "box = html.find(\"dl\", {\"class\" : \"indx_list kos_indx\"})\n",
        "all_detail = box.find_all(\"dd\")\n",
        "\n",
        "for detail in all_detail:\n",
        "    print(detail.text)"
      ],
      "execution_count": null,
      "outputs": []
    },
    {
      "cell_type": "markdown",
      "metadata": {
        "id": "7IyOK-2D2Cv8"
      },
      "source": [
        "## 상세 정보 가져오기(2)"
      ]
    },
    {
      "cell_type": "code",
      "metadata": {
        "id": "JAfHp8Q42Cv8",
        "outputId": "9503de36-f334-41f7-ae0e-9241392106b4"
      },
      "source": [
        "all_name = box.find_all(\"dt\")\n",
        "\n",
        "for i in range(0,6):\n",
        "    print(all_name[i].text, \":\", all_detail[i].text)"
      ],
      "execution_count": null,
      "outputs": [
        {
          "output_type": "stream",
          "text": [
            "전일종가 : 88,100\n",
            "시가 : 89,000\n",
            "고가 : 89,700\n",
            "저가 : 86,800\n",
            "거래량(천주) : 30,429,967\n",
            "시가총액 : 5,181,771억\n"
          ],
          "name": "stdout"
        }
      ]
    },
    {
      "cell_type": "code",
      "metadata": {
        "id": "SDNaxdJV2Cv9"
      },
      "source": [
        ""
      ],
      "execution_count": null,
      "outputs": []
    }
  ]
}