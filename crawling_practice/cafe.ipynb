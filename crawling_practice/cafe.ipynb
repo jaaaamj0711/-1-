{
  "nbformat": 4,
  "nbformat_minor": 0,
  "metadata": {
    "kernelspec": {
      "display_name": "Python 3",
      "language": "python",
      "name": "python3"
    },
    "language_info": {
      "codemirror_mode": {
        "name": "ipython",
        "version": 3
      },
      "file_extension": ".py",
      "mimetype": "text/x-python",
      "name": "python",
      "nbconvert_exporter": "python",
      "pygments_lexer": "ipython3",
      "version": "3.6.12"
    },
    "toc": {
      "base_numbering": 1,
      "nav_menu": {},
      "number_sections": true,
      "sideBar": true,
      "skip_h1_title": false,
      "title_cell": "Table of Contents",
      "title_sidebar": "Contents",
      "toc_cell": false,
      "toc_position": {},
      "toc_section_display": true,
      "toc_window_display": false
    },
    "varInspector": {
      "cols": {
        "lenName": 16,
        "lenType": 16,
        "lenVar": 40
      },
      "kernels_config": {
        "python": {
          "delete_cmd_postfix": "",
          "delete_cmd_prefix": "del ",
          "library": "var_list.py",
          "varRefreshCmd": "print(var_dic_list())"
        },
        "r": {
          "delete_cmd_postfix": ") ",
          "delete_cmd_prefix": "rm(",
          "library": "var_list.r",
          "varRefreshCmd": "cat(var_dic_list()) "
        }
      },
      "types_to_exclude": [
        "module",
        "function",
        "builtin_function_or_method",
        "instance",
        "_Feature"
      ],
      "window_display": false
    },
    "colab": {
      "name": "cafe.ipynb",
      "provenance": [],
      "include_colab_link": true
    }
  },
  "cells": [
    {
      "cell_type": "markdown",
      "metadata": {
        "id": "view-in-github",
        "colab_type": "text"
      },
      "source": [
        "<a href=\"https://colab.research.google.com/github/jaaaamj0711/MGC-1/blob/main/crawling_practice/cafe.ipynb\" target=\"_parent\"><img src=\"https://colab.research.google.com/assets/colab-badge.svg\" alt=\"Open In Colab\"/></a>"
      ]
    },
    {
      "cell_type": "code",
      "metadata": {
        "id": "8fRd_ngpeebB"
      },
      "source": [
        "# 라이브러리 import\n",
        "from selenium import webdriver\n",
        "import time"
      ],
      "execution_count": null,
      "outputs": []
    },
    {
      "cell_type": "code",
      "metadata": {
        "id": "7e12Q4SWeebR",
        "outputId": "379300b5-3d3b-48d6-e8f6-79cd22f0535a"
      },
      "source": [
        "# 자동화된 크롬 창 실행\n",
        "chrome_path = \"C:/Users/User/OneDrive/문서/PYTHON_CODE/chromedriver\"\n",
        "driver = webdriver.Chrome(chrome_path)\n",
        "\n",
        "# 네이버 로그인 페이지 접속\n",
        "login_url = 'https://nid.naver.com/nidlogin.login?mode=form&url=https%3A%2F%2Fwww.naver.com'\n",
        "driver.get(login_url)\n",
        "\n",
        "# 시간적 여유 원하는 만큼\n",
        "time.sleep(2)\n",
        "\n",
        "driver.execute_script(\"document.getElementsByName('id')[0].value = \\'\" + my_id + \"\\'\")\n",
        "driver.execute_script(\"document.getElementsByName('pw')[0].value = \\'\" + my_pw + \"\\'\")\n",
        "\n",
        "# 시간적 여유 원하는 만큼\n",
        "time.sleep(1)\n",
        "\n",
        "# '로그인' 버튼 클릭\n",
        "driver.find_element_by_id('log.login').click()\n",
        "\n",
        "# 시간적 여유 원하는 만큼\n",
        "time.sleep(1)\n",
        "\n",
        "# 코뮤니티 접속\n",
        "comu_url = 'https://cafe.naver.com/codeuniv'\n",
        "driver.get(comu_url)\n",
        "\n",
        "# 시간적 여유 원하는 만큼\n",
        "time.sleep(1)\n",
        "\n",
        "driver.find_element_by_id('menuLink90').click()\n",
        "time.sleep(1)\n",
        "\n",
        "driver.switch_to.frame('cafe_main')\n",
        "time.sleep(1)\n",
        "\n",
        "driver.find_element_by_xpath('//*[@id=\"main-area\"]/div[4]/table/tbody/tr[1]/td[1]/div[2]/div/a').click()\n",
        "time.sleep(1)\n",
        "\n",
        "count = 0\n",
        "\n",
        "for i in range(20):\n",
        "\n",
        "    count += 1\n",
        "    content = driver.find_element_by_css_selector('div.se-component-content').text\n",
        "    time.sleep(1)\n",
        "    \n",
        "    driver.find_element_by_class_name('BaseButton.btn_next').click()\n",
        "    time.sleep(1)\n",
        "    \n",
        "    print('<'+str(count),'번째 신규회원>')\n",
        "    print(content)"
      ],
      "execution_count": null,
      "outputs": [
        {
          "output_type": "stream",
          "text": [
            "<1 번째 신규회원>\n",
            "코딩공부를 위해 가입했습니다!\n",
            "취미보다는 더 열심히 공부하는게 목적이라 카페 이곳저곳 둘러보면서 도움 주고받고 싶습니다~\n",
            "<2 번째 신규회원>\n",
            "이번에 졸업한 비전공자 코린입니다. 취준 해야하는데 코딩에 재미가 들렸네요... ㅋㅋㅋㅋ \n",
            "취준이랑 코딩 같이 하기 힘들것 같긴 하지만 그래도 힘내서 해보려구요.\n",
            "지금 파이썬 배우고 있습니다! 많은 도움 부탁드려요. \n",
            "<3 번째 신규회원>\n",
            "안녕하세요 현직 안드로이드 앱 개발자인 홍드로이드 라고 합니다.\n",
            "이 곳에서 여러가지 코딩지식을 습득하고싶고 지식 공유도 하고싶어서 가입하게되었습니다.\n",
            "잘 부탁드리겠습니다 :)\n",
            "<4 번째 신규회원>\n",
            "링커리어를 통해서 코뮤니티를 알게된 신입회원입니다! 전전학부생인데 학교에서 배우는 게 c인지 c++인지도 모르고 코딩에 대해서 너무 추상적이라고 생각했던 코알못이에요. 어디서 배웠는지 학교에서는 배우지도 않은 코딩을 쭉쭉해나가는 몇몇 동기들 모습이 부러웠는데 코딩에 대해 많이 알아가고 싶어요~!\n",
            "<5 번째 신규회원>\n",
            "안녕하세요 신규 회원 가입 했습니다!\n",
            "<6 번째 신규회원>\n",
            "안녕하세요!! 파이썬 공부하러 왔습니다.\n",
            "<7 번째 신규회원>\n",
            "안녕하세요~\n",
            "<8 번째 신규회원>\n",
            "21년도는 20년도와는 다르게 의미있게 한 해를 시작하고싶어서 코딩공부를 막 시작한 코린이입니다! 잘 부탁드립ㄴㅣ다!!\n",
            "<9 번째 신규회원>\n",
            "잘 부탁드립니다!\n",
            "<10 번째 신규회원>\n",
            "안녕하세요.\n",
            "파이썬 공부하기 위해 가입했습니다. \n",
            "<11 번째 신규회원>\n",
            "안녕하세요! 코딩을 공부하기 시작한 이청아라고합니다!\n",
            "모르는 부분이 많아서 도움이 필요합니다!\n",
            "잘부탁드립니다.\n",
            "<12 번째 신규회원>\n",
            "안녕하세요 코딩 공부하고 있는 코난입니다! 잘부탁드립니다\n",
            "<13 번째 신규회원>\n",
            "코딩 공부를 제대로 해보고싶어서 가입했습니다!\n",
            "잘 부탁드려요!\n",
            "<14 번째 신규회원>\n",
            "미루고 미뤄왔던 코딩공부.. 제대로 시작하고 싶어서 가입하였습니다! 모두모두 파이팅! 반가워용 ㅎㅎ\n",
            "<15 번째 신규회원>\n",
            "대학에서 처음 코딩을 접하고 전공수업들을 대부분 독학으로 해결하다가\n",
            "코딩 관련 커뮤니티, 교육, 대외활동을 찾다가 이곳을 발견했습니다.\n",
            "페이스북 페이지에는 오래전에 가입되어 있었는데 더욱 유용한 공간이 있었군요.\n",
            "제겐 정보의 바다 속에서 신뢰할 만한 곳이 생긴 것 같아 다행이네요.\n",
            "앞으로 잘부탁드립니다.\n",
            "<16 번째 신규회원>\n",
            "안녕하세요 파이썬에대해 더욱 공부해보고자 가입했습니다!\n",
            "<17 번째 신규회원>\n",
            "파이썬을 방학때 처음 접했는데 조금 더 배워보고싶어서 가입합니다!\n",
            "<18 번째 신규회원>\n",
            "안녕하세요!! 문과이지만 코딩 배워보고싶어 등록했습니다!!\n",
            "<19 번째 신규회원>\n",
            "웹사이트를 만들어보고 싶어, 가입했습니다.\n",
            "<20 번째 신규회원>\n",
            "안녕하세요 !! 오늘 가입한 코린이입니다ㅎㅎ 활동 열심히할게요~~우리 모두 코딩 마스터가 되는 그날까지 화이팅~~!! \n"
          ],
          "name": "stdout"
        }
      ]
    },
    {
      "cell_type": "code",
      "metadata": {
        "id": "21kv7bGueebU"
      },
      "source": [
        ""
      ],
      "execution_count": null,
      "outputs": []
    }
  ]
}