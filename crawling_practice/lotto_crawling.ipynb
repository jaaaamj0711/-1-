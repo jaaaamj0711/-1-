{
  "nbformat": 4,
  "nbformat_minor": 0,
  "metadata": {
    "colab": {
      "name": "lotto_crawling.ipynb",
      "provenance": [],
      "authorship_tag": "ABX9TyN80rCKKe+f35b/RcbKZDKd",
      "include_colab_link": true
    },
    "kernelspec": {
      "name": "python3",
      "display_name": "Python 3"
    }
  },
  "cells": [
    {
      "cell_type": "markdown",
      "metadata": {
        "id": "view-in-github",
        "colab_type": "text"
      },
      "source": [
        "<a href=\"https://colab.research.google.com/github/jaaaamj0711/MGC-1/blob/main/lotto_crawling.ipynb\" target=\"_parent\"><img src=\"https://colab.research.google.com/assets/colab-badge.svg\" alt=\"Open In Colab\"/></a>"
      ]
    },
    {
      "cell_type": "markdown",
      "metadata": {
        "id": "LdrfEI4xCMjq"
      },
      "source": [
        "# 🎱 로또 사이트 크롤링\r\n",
        "\r\n",
        "\r\n"
      ]
    },
    {
      "cell_type": "code",
      "metadata": {
        "id": "_5J8E-bKBlKm"
      },
      "source": [
        "# import library\r\n",
        "import requests"
      ],
      "execution_count": 12,
      "outputs": []
    },
    {
      "cell_type": "code",
      "metadata": {
        "id": "es_eMjJWBnHO"
      },
      "source": [
        "# url\r\n",
        "lotto_url = 'https://dhlottery.co.kr/gameResult.do?method=byWin'"
      ],
      "execution_count": 13,
      "outputs": []
    },
    {
      "cell_type": "code",
      "metadata": {
        "id": "8XXeGKXtBnvz"
      },
      "source": [
        "raw = requests.get(lotto_url)"
      ],
      "execution_count": 14,
      "outputs": []
    },
    {
      "cell_type": "code",
      "metadata": {
        "colab": {
          "base_uri": "https://localhost:8080/"
        },
        "id": "VLSuNz-ZBqYG",
        "outputId": "b075b096-da3c-44bc-aac0-95a5fe8d4b71"
      },
      "source": [
        "print(raw)"
      ],
      "execution_count": 15,
      "outputs": [
        {
          "output_type": "stream",
          "text": [
            "<Response [200]>\n"
          ],
          "name": "stdout"
        }
      ]
    },
    {
      "cell_type": "code",
      "metadata": {
        "id": "qUeddFXHBr-K"
      },
      "source": [
        "print(raw.text)"
      ],
      "execution_count": null,
      "outputs": []
    },
    {
      "cell_type": "code",
      "metadata": {
        "id": "OuBBzdqXBug_"
      },
      "source": [
        "# import library\r\n",
        "from bs4 import BeautifulSoup"
      ],
      "execution_count": 17,
      "outputs": []
    },
    {
      "cell_type": "code",
      "metadata": {
        "id": "V_1HCvSzoaB3"
      },
      "source": [
        "soup = BeautifulSoup(raw.text, 'html.parser') # 실제 HTML 코드로 변환\r\n",
        "print(soup)"
      ],
      "execution_count": null,
      "outputs": []
    },
    {
      "cell_type": "markdown",
      "metadata": {
        "id": "6w9ypSV_rvKV"
      },
      "source": [
        "## find vs find_all"
      ]
    },
    {
      "cell_type": "markdown",
      "metadata": {
        "id": "1ZhoxJ1VryRM"
      },
      "source": [
        "- find_all():원하는 모든 것을 가져온다.\r\n",
        "- find() : 하나의 값만 가져온다.\r\n"
      ]
    },
    {
      "cell_type": "code",
      "metadata": {
        "colab": {
          "base_uri": "https://localhost:8080/"
        },
        "id": "myGjl4M-ozfr",
        "outputId": "dd8732ef-026e-4ef1-c1c8-6ea42461d812"
      },
      "source": [
        "box = soup.find('div', {'class' : 'nums'})\r\n",
        "print(box)"
      ],
      "execution_count": 22,
      "outputs": [
        {
          "output_type": "stream",
          "text": [
            "<div class=\"nums\">\n",
            "<div class=\"num win\">\n",
            "<strong>당첨번호</strong>\n",
            "<p>\n",
            "<span class=\"ball_645 lrg ball1\">9</span>\n",
            "<span class=\"ball_645 lrg ball2\">18</span>\n",
            "<span class=\"ball_645 lrg ball2\">19</span>\n",
            "<span class=\"ball_645 lrg ball3\">30</span>\n",
            "<span class=\"ball_645 lrg ball4\">34</span>\n",
            "<span class=\"ball_645 lrg ball4\">40</span>\n",
            "</p>\n",
            "</div>\n",
            "<div class=\"num bonus\">\n",
            "<strong>보너스</strong>\n",
            "<p><span class=\"ball_645 lrg ball2\">20</span></p>\n",
            "</div>\n",
            "</div>\n"
          ],
          "name": "stdout"
        }
      ]
    },
    {
      "cell_type": "code",
      "metadata": {
        "colab": {
          "base_uri": "https://localhost:8080/"
        },
        "id": "DzCPUyM9o3tm",
        "outputId": "6752f9cd-36d7-437b-8b4a-dc4c9d3b3a66"
      },
      "source": [
        "numbers = box.find_all('span')\r\n",
        "print(numbers)"
      ],
      "execution_count": 23,
      "outputs": [
        {
          "output_type": "stream",
          "text": [
            "[<span class=\"ball_645 lrg ball1\">9</span>, <span class=\"ball_645 lrg ball2\">18</span>, <span class=\"ball_645 lrg ball2\">19</span>, <span class=\"ball_645 lrg ball3\">30</span>, <span class=\"ball_645 lrg ball4\">34</span>, <span class=\"ball_645 lrg ball4\">40</span>, <span class=\"ball_645 lrg ball2\">20</span>]\n"
          ],
          "name": "stdout"
        }
      ]
    },
    {
      "cell_type": "code",
      "metadata": {
        "colab": {
          "base_uri": "https://localhost:8080/"
        },
        "id": "8yfB1OMQo6UW",
        "outputId": "a635cadf-06a0-46a0-c8f9-7486358ff259"
      },
      "source": [
        "for number in numbers:\r\n",
        "    print(number.text)"
      ],
      "execution_count": 24,
      "outputs": [
        {
          "output_type": "stream",
          "text": [
            "9\n",
            "18\n",
            "19\n",
            "30\n",
            "34\n",
            "40\n",
            "20\n"
          ],
          "name": "stdout"
        }
      ]
    },
    {
      "cell_type": "code",
      "metadata": {
        "id": "oTugiZmOo-rv"
      },
      "source": [
        ""
      ],
      "execution_count": 24,
      "outputs": []
    }
  ]
}
