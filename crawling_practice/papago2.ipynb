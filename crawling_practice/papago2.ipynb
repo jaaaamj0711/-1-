{
  "nbformat": 4,
  "nbformat_minor": 0,
  "metadata": {
    "kernelspec": {
      "display_name": "Python 3",
      "language": "python",
      "name": "python3"
    },
    "language_info": {
      "codemirror_mode": {
        "name": "ipython",
        "version": 3
      },
      "file_extension": ".py",
      "mimetype": "text/x-python",
      "name": "python",
      "nbconvert_exporter": "python",
      "pygments_lexer": "ipython3",
      "version": "3.6.12"
    },
    "toc": {
      "base_numbering": 1,
      "nav_menu": {},
      "number_sections": true,
      "sideBar": true,
      "skip_h1_title": false,
      "title_cell": "Table of Contents",
      "title_sidebar": "Contents",
      "toc_cell": false,
      "toc_position": {},
      "toc_section_display": true,
      "toc_window_display": false
    },
    "varInspector": {
      "cols": {
        "lenName": 16,
        "lenType": 16,
        "lenVar": 40
      },
      "kernels_config": {
        "python": {
          "delete_cmd_postfix": "",
          "delete_cmd_prefix": "del ",
          "library": "var_list.py",
          "varRefreshCmd": "print(var_dic_list())"
        },
        "r": {
          "delete_cmd_postfix": ") ",
          "delete_cmd_prefix": "rm(",
          "library": "var_list.r",
          "varRefreshCmd": "cat(var_dic_list()) "
        }
      },
      "types_to_exclude": [
        "module",
        "function",
        "builtin_function_or_method",
        "instance",
        "_Feature"
      ],
      "window_display": false
    },
    "colab": {
      "name": "papago2.ipynb",
      "provenance": [],
      "include_colab_link": true
    }
  },
  "cells": [
    {
      "cell_type": "markdown",
      "metadata": {
        "id": "view-in-github",
        "colab_type": "text"
      },
      "source": [
        "<a href=\"https://colab.research.google.com/github/jaaaamj0711/MGC-1/blob/main/papago2.ipynb\" target=\"_parent\"><img src=\"https://colab.research.google.com/assets/colab-badge.svg\" alt=\"Open In Colab\"/></a>"
      ]
    },
    {
      "cell_type": "code",
      "metadata": {
        "id": "Xue-1AEm3Qws"
      },
      "source": [
        "from selenium import webdriver\n",
        "import time\n",
        "import csv"
      ],
      "execution_count": null,
      "outputs": []
    },
    {
      "cell_type": "code",
      "metadata": {
        "id": "DHKB2_Kp3Qw_"
      },
      "source": [
        "chrome_path = \"C:/Users/User/OneDrive/문서/PYTHON_CODE/chromedriver\""
      ],
      "execution_count": null,
      "outputs": []
    },
    {
      "cell_type": "code",
      "metadata": {
        "id": "jm6agmbq3QxC"
      },
      "source": [
        "# 자동화된 크롬 창 실행\n",
        "driver = webdriver.Chrome(chrome_path)\n",
        "\n",
        "# 파파고 웹 페이지 접속\n",
        "papago_url = 'https://papago.naver.com/'\n",
        "driver.get(papago_url)\n",
        "\n",
        "# 시간적 여유 3초\n",
        "time.sleep(3)\n",
        "\n",
        "# 영어-> 한국어, 한국어-> 영어로 변경\n",
        "driver.find_element_by_class_name('btn_switch___x4Tcl').click()"
      ],
      "execution_count": null,
      "outputs": []
    },
    {
      "cell_type": "code",
      "metadata": {
        "id": "RGI4jQ0j3QxD",
        "outputId": "434f517a-3df7-4c99-c385-e7f4abeff1c0"
      },
      "source": [
        "f = open('./my_papago.csv', 'r')\n",
        "rdr = csv.reader(f)\n",
        "next(rdr)"
      ],
      "execution_count": null,
      "outputs": [
        {
          "output_type": "execute_result",
          "data": {
            "text/plain": [
              "['영단어', '번역결과']"
            ]
          },
          "metadata": {
            "tags": []
          },
          "execution_count": 25
        }
      ]
    },
    {
      "cell_type": "code",
      "metadata": {
        "id": "ucT07MXp3QxI"
      },
      "source": [
        "korea_word = []\n",
        "\n",
        "for k in rdr:\n",
        "    korea = k[1]\n",
        "    korea_word.append(korea)\n",
        "\n",
        "f.close()"
      ],
      "execution_count": null,
      "outputs": []
    },
    {
      "cell_type": "code",
      "metadata": {
        "id": "8c9dKUWG3QxK",
        "outputId": "0d09a064-acac-458a-ffdc-2dbb76dcd5a6"
      },
      "source": [
        "for word in korea_word:\n",
        "    driver.find_element_by_css_selector('textarea#txtSource').send_keys(word)\n",
        "    driver.find_element_by_css_selector('button#btnTranslate').click()\n",
        "    \n",
        "    time.sleep(1)\n",
        "\n",
        "    output = driver.find_element_by_css_selector('div#txtTarget').text\n",
        "    driver.find_element_by_css_selector('textarea#txtSource').clear()\n",
        "    print(word, ':', output)"
      ],
      "execution_count": null,
      "outputs": [
        {
          "output_type": "stream",
          "text": [
            "사과 : apple\n",
            "심다 : plant\n",
            "씨를 뿌리다 : sow seeds\n",
            "컴퓨터 : Computer\n",
            "샘솟다 : spring up\n",
            "여름의 : summer\n"
          ],
          "name": "stdout"
        }
      ]
    },
    {
      "cell_type": "code",
      "metadata": {
        "id": "KC3UqmMa3QxN"
      },
      "source": [
        "driver.close()"
      ],
      "execution_count": null,
      "outputs": []
    },
    {
      "cell_type": "code",
      "metadata": {
        "id": "YrUIaA4H3QxO"
      },
      "source": [
        ""
      ],
      "execution_count": null,
      "outputs": []
    }
  ]
}
