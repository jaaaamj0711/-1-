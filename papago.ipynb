{
  "nbformat": 4,
  "nbformat_minor": 0,
  "metadata": {
    "kernelspec": {
      "display_name": "Python 3",
      "language": "python",
      "name": "python3"
    },
    "language_info": {
      "codemirror_mode": {
        "name": "ipython",
        "version": 3
      },
      "file_extension": ".py",
      "mimetype": "text/x-python",
      "name": "python",
      "nbconvert_exporter": "python",
      "pygments_lexer": "ipython3",
      "version": "3.6.12"
    },
    "toc": {
      "base_numbering": 1,
      "nav_menu": {},
      "number_sections": true,
      "sideBar": true,
      "skip_h1_title": false,
      "title_cell": "Table of Contents",
      "title_sidebar": "Contents",
      "toc_cell": false,
      "toc_position": {},
      "toc_section_display": true,
      "toc_window_display": false
    },
    "varInspector": {
      "cols": {
        "lenName": 16,
        "lenType": 16,
        "lenVar": 40
      },
      "kernels_config": {
        "python": {
          "delete_cmd_postfix": "",
          "delete_cmd_prefix": "del ",
          "library": "var_list.py",
          "varRefreshCmd": "print(var_dic_list())"
        },
        "r": {
          "delete_cmd_postfix": ") ",
          "delete_cmd_prefix": "rm(",
          "library": "var_list.r",
          "varRefreshCmd": "cat(var_dic_list()) "
        }
      },
      "types_to_exclude": [
        "module",
        "function",
        "builtin_function_or_method",
        "instance",
        "_Feature"
      ],
      "window_display": false
    },
    "colab": {
      "name": "papago.ipynb",
      "provenance": [],
      "include_colab_link": true
    }
  },
  "cells": [
    {
      "cell_type": "markdown",
      "metadata": {
        "id": "view-in-github",
        "colab_type": "text"
      },
      "source": [
        "<a href=\"https://colab.research.google.com/github/jaaaamj0711/MGC-1/blob/main/papago.ipynb\" target=\"_parent\"><img src=\"https://colab.research.google.com/assets/colab-badge.svg\" alt=\"Open In Colab\"/></a>"
      ]
    },
    {
      "cell_type": "markdown",
      "metadata": {
        "id": "kSsLnEtmBh7a"
      },
      "source": [
        "# 파파고 크롤링"
      ]
    },
    {
      "cell_type": "code",
      "metadata": {
        "id": "Vsq9b8MEBh7m"
      },
      "source": [
        "from selenium import webdriver\n",
        "import time"
      ],
      "execution_count": null,
      "outputs": []
    },
    {
      "cell_type": "code",
      "metadata": {
        "id": "50XqHaVnBh7o"
      },
      "source": [
        "# 나만의 번역 사전 생성\n",
        "my_dict = {}\n",
        "\n",
        "driver = webdriver.Chrome('C:/Users/User/OneDrive/문서/PYTHON_CODE/chromedriver')\n",
        "\n",
        "# 파파고 웹 페이지 접속\n",
        "papago_url = 'https://papago.naver.com/'\n",
        "driver.get(papago_url)\n",
        "# 시간적 여유 3초\n",
        "time.sleep(3)\n",
        "\n",
        "# 함수 정의\n",
        "def  get_papago_result(my_dict):\n",
        "    \n",
        "    for i in range(5):\n",
        "        question = input('번역할 영단어 입력 : ')\n",
        "        driver.find_element_by_css_selector('textarea#txtSource').send_keys(question)\n",
        "        driver.find_element_by_css_selector('button#btnTranslate').click()\n",
        "        time.sleep(1)\n",
        "        output = driver.find_element_by_css_selector('div#txtTarget').text\n",
        "        my_dict[question] = output\n",
        "        # 입력 칸 초기화\n",
        "        driver.find_element_by_css_selector('textarea#txtSource').clear()\n",
        "\n",
        "    return my_dict"
      ],
      "execution_count": null,
      "outputs": []
    },
    {
      "cell_type": "code",
      "metadata": {
        "id": "trivfO0SBh7p",
        "outputId": "8ce375b6-6c62-47f6-b14f-f1c0b80d22b2"
      },
      "source": [
        "get_papago_result(my_dict)"
      ],
      "execution_count": null,
      "outputs": [
        {
          "output_type": "stream",
          "text": [
            "번역할 영단어 입력 : card\n",
            "번역할 영단어 입력 : purple\n",
            "번역할 영단어 입력 : orange\n",
            "번역할 영단어 입력 : blue\n",
            "번역할 영단어 입력 : cat\n"
          ],
          "name": "stdout"
        },
        {
          "output_type": "execute_result",
          "data": {
            "text/plain": [
              "{'card': '카드를 찍다',\n",
              " 'purple': '보랏빛의',\n",
              " 'orange': '오렌지색의',\n",
              " 'blue': '파랑의',\n",
              " 'cat': '고양이과 동물'}"
            ]
          },
          "metadata": {
            "tags": []
          },
          "execution_count": 18
        }
      ]
    },
    {
      "cell_type": "code",
      "metadata": {
        "id": "2-3uvQsQBh7r"
      },
      "source": [
        ""
      ],
      "execution_count": null,
      "outputs": []
    }
  ]
}